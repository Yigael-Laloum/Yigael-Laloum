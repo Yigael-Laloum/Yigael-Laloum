{
  "nbformat": 4,
  "nbformat_minor": 0,
  "metadata": {
    "colab": {
      "provenance": [],
      "collapsed_sections": [
        "1iIlQ7YnplFh",
        "DAE71EQaqf2V",
        "XJ0LxDqOqt5-",
        "NcF0JSSKyKsm",
        "YhqeRj_FDMMs",
        "HS1Hhm1bMHyO",
        "6AnOElS5Nhmo",
        "U-2RGiPDFQXA"
      ],
      "toc_visible": true,
      "include_colab_link": true
    },
    "kernelspec": {
      "name": "python3",
      "display_name": "Python 3"
    },
    "language_info": {
      "name": "python"
    }
  },
  "cells": [
    {
      "cell_type": "markdown",
      "metadata": {
        "id": "view-in-github",
        "colab_type": "text"
      },
      "source": [
        "<a href=\"https://colab.research.google.com/github/Yigael-Laloum/Yigael-Laloum/blob/main/4_%D7%A4%D7%95%D7%A0%D7%A7%D7%A6%D7%99%D7%95%D7%AA.ipynb\" target=\"_parent\"><img src=\"https://colab.research.google.com/assets/colab-badge.svg\" alt=\"Open In Colab\"/></a>"
      ]
    },
    {
      "cell_type": "markdown",
      "source": [
        "![מטלות.jpg](https://drive.google.com/uc?export=view&id=1MgwlJtayDpm31BOtzJ1rfaAutPxcCp4w)\n"
      ],
      "metadata": {
        "id": "nkJPt_kSjrn9"
      }
    },
    {
      "cell_type": "markdown",
      "source": [
        "<div dir=\"rtl\" lang=\"he\">\n",
        "\n",
        "#**<pre>   מהי פונקציות**"
      ],
      "metadata": {
        "id": "df4RF7oks_Yi"
      }
    },
    {
      "cell_type": "markdown",
      "source": [
        "<div dir=\"rtl\" lang=\"he\">\n",
        "\n",
        "פונקציה הינה תוכנית קטנה המופעלת רק לאחר שזימנו אותה בתוכנית הראשית.\n",
        "ללא זימון הפונקציה לא תרוץ.\n",
        "\n",
        "פונקציה מוגדרת על ידי המילה השמורה def"
      ],
      "metadata": {
        "id": "_2eSAL5okG5L"
      }
    },
    {
      "cell_type": "code",
      "source": [
        "def myFunction ():                    # חתימת הפונקציה\n",
        "  print(\"Hello from a function\")      # גוף הפונקציה"
      ],
      "metadata": {
        "id": "ACS2Kro6kFuS"
      },
      "execution_count": null,
      "outputs": []
    },
    {
      "cell_type": "code",
      "source": [
        "myFunction()                          # זימון הפונקציה"
      ],
      "metadata": {
        "colab": {
          "base_uri": "https://localhost:8080/"
        },
        "id": "ItZlfCQjkvqK",
        "outputId": "28f70ddf-7887-48c6-a3f4-1544c14fc48c"
      },
      "execution_count": null,
      "outputs": [
        {
          "output_type": "stream",
          "name": "stdout",
          "text": [
            "Hello from a function\n"
          ]
        }
      ]
    },
    {
      "cell_type": "markdown",
      "source": [
        "<div dir=\"rtl\" lang=\"he\">\n",
        "\n",
        "#**<pre>   פונקציה המקבלת פרמטרים**"
      ],
      "metadata": {
        "id": "I0aKDFwyk-HW"
      }
    },
    {
      "cell_type": "markdown",
      "source": [
        "<div dir=\"rtl\" lang=\"he\">\n",
        "\n",
        "פונקציה יכולה לקבל ערכים, וזאת באמצעות הגדרת פרמטרים בסוגריים.\n",
        "\n",
        "בעת זימון הפונקציה אנחנו מעבירים ערכים לפרמטרים אילו בהתאם לסדר הגדרתם.\n",
        "\n",
        "הפרמטרים משמשים כמשתנים בתוך הפונקציה."
      ],
      "metadata": {
        "id": "bAj4912gUlDM"
      }
    },
    {
      "cell_type": "code",
      "source": [
        "def fullName (fname, lname):\n",
        "  print(fname + \" \" + lname)\n",
        "\n",
        "fullName(\"John\", \"Doe\")"
      ],
      "metadata": {
        "colab": {
          "base_uri": "https://localhost:8080/"
        },
        "id": "7MYQLcJhlFEB",
        "outputId": "2b0085e4-3684-4e7e-8d94-555f35278708"
      },
      "execution_count": null,
      "outputs": [
        {
          "output_type": "stream",
          "name": "stdout",
          "text": [
            "John Doe\n"
          ]
        }
      ]
    },
    {
      "cell_type": "markdown",
      "source": [
        "<div dir=\"rtl\" lang=\"he\">\n",
        "\n",
        "ניתן לזמן את הפונקציה עם שם הפרמטרים, ואז הסדר אינו משנה:"
      ],
      "metadata": {
        "id": "xTwpBSPTlWYx"
      }
    },
    {
      "cell_type": "code",
      "source": [
        "fullName(lname=\"Markman\", fname=\"Gilad\")"
      ],
      "metadata": {
        "colab": {
          "base_uri": "https://localhost:8080/"
        },
        "id": "Zc7epG69m5SH",
        "outputId": "7da34550-c035-4a89-e0a5-193c1a37f4f3"
      },
      "execution_count": null,
      "outputs": [
        {
          "output_type": "stream",
          "name": "stdout",
          "text": [
            "Gilad Markman\n"
          ]
        }
      ]
    },
    {
      "cell_type": "markdown",
      "source": [
        "<div dir=\"rtl\" lang=\"he\">\n",
        "\n",
        "ניתן להגדיר בפונקציה ערך ברירת מחדל, כך שאם לא מועבר ערך יוצב בפרמטר ערך ברירת המחדל באופן אוטומטי."
      ],
      "metadata": {
        "id": "Pz8c2nMXm_Bs"
      }
    },
    {
      "cell_type": "code",
      "source": [
        "def myCountry (name, country = \"Israel\"):\n",
        "  print(f\"{name} from {country}\")\n",
        "name = \"Gilad\"\n",
        "country = \"USA\"\n",
        "myCountry(name, country)\n",
        "myCountry(name)\n",
        "# myCountry()\n"
      ],
      "metadata": {
        "colab": {
          "base_uri": "https://localhost:8080/"
        },
        "id": "zcCQ-dQPnK1-",
        "outputId": "ee68863b-3917-4c53-f4cb-9413abf4c246"
      },
      "execution_count": null,
      "outputs": [
        {
          "output_type": "stream",
          "name": "stdout",
          "text": [
            "Gilad from USA\n",
            "Gilad from Israel\n"
          ]
        }
      ]
    },
    {
      "cell_type": "markdown",
      "source": [
        "<div dir=\"rtl\" lang=\"he\">\n",
        "\n",
        "#**<pre>  פונקציה מחזירת ערך**\n"
      ],
      "metadata": {
        "id": "Hfts4th3nwGT"
      }
    },
    {
      "cell_type": "markdown",
      "source": [
        "<div dir=\"rtl\" lang=\"he\">\n",
        "\n",
        "ניתן להגדיר באמצעות המילה return את הערך שיוחזר על ידי הפונקציה:"
      ],
      "metadata": {
        "id": "xq3O8PWZUuCK"
      }
    },
    {
      "cell_type": "code",
      "source": [
        "def multiply (a, b):\n",
        "  return a * b\n",
        "\n",
        "c = multiply(2, 3)\n",
        "print(c)\n",
        "\n",
        "print(multiply(5, -3))"
      ],
      "metadata": {
        "colab": {
          "base_uri": "https://localhost:8080/"
        },
        "id": "uaEEBtL-oT5M",
        "outputId": "e229b29f-32b6-4eb1-b155-d29e3fff12aa"
      },
      "execution_count": null,
      "outputs": [
        {
          "output_type": "stream",
          "name": "stdout",
          "text": [
            "6\n",
            "-15\n"
          ]
        }
      ]
    },
    {
      "cell_type": "markdown",
      "source": [
        "<div dir=\"rtl\" lang=\"he\">\n",
        "\n",
        "#**<pre>   תחום הגדרה של משתנים**"
      ],
      "metadata": {
        "id": "0MT0PmuTv1Pb"
      }
    },
    {
      "cell_type": "markdown",
      "source": [
        "<div dir=\"rtl\" lang=\"he\">\n",
        "\n",
        "משתנים המוגדרים בתוך הפונקציה הם מקומיים ותחום הגדרתם הוא רק בתוך הפונקציה.\n",
        "\n",
        "משתנה מקומי המוגדר בפונקציה לא יהיה מוכר בתוכנית הראשית או בפונקציות אחרות.\n",
        "\n",
        "גם אם ניתן שם זהה למשתנה גלובאלי עדיין המדובר במשתנים שונים.\n",
        "\n"
      ],
      "metadata": {
        "id": "h7hgtNOsU033"
      }
    },
    {
      "cell_type": "code",
      "source": [
        "x = 5\n",
        "\n",
        "def func ():\n",
        "  print(x)      # הפונקציה מכירה במשתנים גלובאליים\n",
        "\n",
        "func()\n"
      ],
      "metadata": {
        "colab": {
          "base_uri": "https://localhost:8080/"
        },
        "id": "lAT4RHbbv0hJ",
        "outputId": "a9cf21d1-005d-46c9-8cfe-81886cd44192"
      },
      "execution_count": null,
      "outputs": [
        {
          "output_type": "stream",
          "name": "stdout",
          "text": [
            "5\n"
          ]
        }
      ]
    },
    {
      "cell_type": "code",
      "source": [
        "x = 5\n",
        "\n",
        "def func ():\n",
        "  x = 3         # משתנה מקומי השונה מהמשתנה הגלובאלי\n",
        "  print(x)\n",
        "\n",
        "func()\n",
        "print(x)"
      ],
      "metadata": {
        "colab": {
          "base_uri": "https://localhost:8080/"
        },
        "id": "k7YPuy8vwr4t",
        "outputId": "6ca5f29e-3e65-4ef5-ec6d-fb354c61049f"
      },
      "execution_count": null,
      "outputs": [
        {
          "output_type": "stream",
          "name": "stdout",
          "text": [
            "3\n",
            "5\n"
          ]
        }
      ]
    },
    {
      "cell_type": "code",
      "source": [
        "x = 5\n",
        "\n",
        "def func (x):\n",
        "  x = 3         # משתנה מקומי השונה מהמשתנה הגלובאלי\n",
        "  y = x\n",
        "  print(x)\n",
        "\n",
        "func(x)\n",
        "print(x)\n",
        "# print(y)"
      ],
      "metadata": {
        "colab": {
          "base_uri": "https://localhost:8080/"
        },
        "id": "sXwj2Cdpw-NJ",
        "outputId": "67a3ee39-b652-4ad7-ccf4-8db7ac42b00e"
      },
      "execution_count": null,
      "outputs": [
        {
          "output_type": "stream",
          "name": "stdout",
          "text": [
            "3\n",
            "5\n"
          ]
        }
      ]
    },
    {
      "cell_type": "markdown",
      "source": [
        "<div dir=\"rtl\" lang=\"he\">\n",
        "\n",
        "#**<pre>   רשות - ארגומנטים של פונקציה**"
      ],
      "metadata": {
        "id": "1iIlQ7YnplFh"
      }
    },
    {
      "cell_type": "markdown",
      "source": [
        "<div dir=\"rtl\" lang=\"he\">\n",
        "`\n",
        "ניתן להגדיר פונקציה המקבלת מספר משתנה של ערכים.\n",
        "\n",
        "הדבר נעשה באמצעות * או **\n",
        "\n",
        "הארגומנטים עושים שימוש במבני נתונים של tuple ו dict. נלמד עליהם בהמשך הקורס."
      ],
      "metadata": {
        "id": "TWFDV2q0U6Is"
      }
    },
    {
      "cell_type": "code",
      "source": [
        "def func(*args):\n",
        "  print(args)\n",
        "\n",
        "func (1,2,3,\"hello\")"
      ],
      "metadata": {
        "colab": {
          "base_uri": "https://localhost:8080/"
        },
        "id": "uvP5TXVWp63U",
        "outputId": "48647ad6-7ab2-4dd0-93aa-5b2df154b199"
      },
      "execution_count": null,
      "outputs": [
        {
          "output_type": "stream",
          "name": "stdout",
          "text": [
            "(1, 2, 3, 'hello')\n"
          ]
        }
      ]
    },
    {
      "cell_type": "code",
      "source": [
        "def func(**kwargs):\n",
        "  print(kwargs)\n",
        "\n",
        "func (a=1, b=2, c=\"hello\")\n"
      ],
      "metadata": {
        "colab": {
          "base_uri": "https://localhost:8080/"
        },
        "id": "8Jw2LoQLqHwP",
        "outputId": "2a090590-5a85-4fce-fc1e-458088f49ffb"
      },
      "execution_count": null,
      "outputs": [
        {
          "output_type": "stream",
          "name": "stdout",
          "text": [
            "{'a': 1, 'b': 2, 'c': 'hello'}\n"
          ]
        }
      ]
    },
    {
      "cell_type": "markdown",
      "source": [
        "<div dir=\"rtl\" lang=\"he\">\n",
        "\n",
        "#**<pre>   רשות - פונקצית lambda**"
      ],
      "metadata": {
        "id": "DAE71EQaqf2V"
      }
    },
    {
      "cell_type": "markdown",
      "source": [
        "<div dir=\"rtl\" lang=\"he\">\n",
        "\n",
        "ביטוי למדא הוא דרך לכתוב פונקציה בצורה מקוצרת.\n",
        "\n",
        "lambda arguments: expression\n",
        "\n",
        "השימוש יעשה רק בפונקציות פשוטות, ונועד על מנת שנוכל לעשות בפונקציה שימוש כפרמטר המועבר לפונקציה אחרת."
      ],
      "metadata": {
        "id": "N4wBrDhjVDUo"
      }
    },
    {
      "cell_type": "code",
      "source": [
        "add = lambda x, y : x + y    # lambda function\n",
        "\n",
        "def mul(x, y):               # regular function\n",
        "  return x * y\n",
        "\n",
        "print(add(2, 3))\n",
        "print(mul(2, 3))"
      ],
      "metadata": {
        "colab": {
          "base_uri": "https://localhost:8080/"
        },
        "id": "JL-wFnkGru8u",
        "outputId": "08306e4b-4e2f-4a8b-94f3-a88e169fb7a9"
      },
      "execution_count": null,
      "outputs": [
        {
          "output_type": "stream",
          "name": "stdout",
          "text": [
            "5\n",
            "6\n"
          ]
        }
      ]
    },
    {
      "cell_type": "markdown",
      "source": [
        "<div dir=\"rtl\" lang=\"he\">\n",
        "\n",
        "#**<pre>   תיעוד פונקציה**\n"
      ],
      "metadata": {
        "id": "XJ0LxDqOqt5-"
      }
    },
    {
      "cell_type": "markdown",
      "source": [
        "<div dir=\"rtl\" lang=\"he\">\n",
        "\n",
        "יש לתעד את הפונקציה באמצעות הערה ''' מיד לאחר החתימה."
      ],
      "metadata": {
        "id": "D_Dq16xtVIZg"
      }
    },
    {
      "cell_type": "code",
      "source": [
        "def func ():\n",
        "  '''הפונקציה לא עושה דבר'''\n",
        "  print(\"hello\")\n",
        "\n",
        "func()\n",
        "print(help(func))"
      ],
      "metadata": {
        "colab": {
          "base_uri": "https://localhost:8080/"
        },
        "id": "5tR3BqC4q9wo",
        "outputId": "6a296e1a-1561-4a99-adfa-0390454532f6"
      },
      "execution_count": null,
      "outputs": [
        {
          "output_type": "stream",
          "name": "stdout",
          "text": [
            "hello\n",
            "Help on function func in module __main__:\n",
            "\n",
            "func()\n",
            "    הפונקציה לא עושה דבר\n",
            "\n",
            "None\n"
          ]
        }
      ]
    },
    {
      "cell_type": "markdown",
      "source": [
        "<div dir=\"rtl\" lang=\"he\">\n",
        "\n",
        "#**<pre>   פונקציה הקוראת לפונקציה**\n"
      ],
      "metadata": {
        "id": "NcF0JSSKyKsm"
      }
    },
    {
      "cell_type": "markdown",
      "source": [
        "<div dir=\"rtl\" lang=\"he\">\n",
        "\n",
        "אין מניעה שפונקציה אחת תקרא לפונקציה שניה"
      ],
      "metadata": {
        "id": "cUFnngE8VOAr"
      }
    },
    {
      "cell_type": "code",
      "source": [
        "def func1 (a):\n",
        "  return a * 2\n",
        "\n",
        "def func2 (a):\n",
        "  b = func1(a) + 3\n",
        "  return b\n",
        "\n",
        "c = func2(5)\n",
        "print(c)"
      ],
      "metadata": {
        "colab": {
          "base_uri": "https://localhost:8080/"
        },
        "id": "hcRVPW0qyVLk",
        "outputId": "ca0d6662-841d-4294-b53f-d91f7fbe98ca"
      },
      "execution_count": null,
      "outputs": [
        {
          "output_type": "stream",
          "name": "stdout",
          "text": [
            "13\n"
          ]
        }
      ]
    },
    {
      "cell_type": "markdown",
      "source": [
        "<div dir=\"rtl\" lang=\"he\">\n",
        "\n",
        "#**<pre>   פונקציות ופעולות על מחרוזות**"
      ],
      "metadata": {
        "id": "YhqeRj_FDMMs"
      }
    },
    {
      "cell_type": "markdown",
      "source": [
        "<div dir=\"rtl\" lang=\"he\">\n",
        "\n",
        "**חיתוך מחרוזות - Slice**\n",
        "\n",
        "ניתן לגשת לקטעים במחרוזת על ידי ציון טווח של האינדקסים"
      ],
      "metadata": {
        "id": "Fn5SSNVABRtb"
      }
    },
    {
      "cell_type": "code",
      "source": [
        "first_name = name[0:5]\n",
        "last_name = name[6:] # מאינדקס 6 עד הסוף\n",
        "new_name = last_name + \" \" + first_name # שירשור מחרוזות\n",
        "print(new_name)\n",
        "last_name = name[-7:] # שימוש באינדקס שלילי\n",
        "print(last_name)"
      ],
      "metadata": {
        "colab": {
          "base_uri": "https://localhost:8080/"
        },
        "id": "r7PiXpPEBi6s",
        "outputId": "ea746b83-2e07-4400-eeed-f2149567f1fc"
      },
      "execution_count": null,
      "outputs": [
        {
          "output_type": "stream",
          "name": "stdout",
          "text": [
            "Markman Gilad\n",
            "Markman\n"
          ]
        }
      ]
    },
    {
      "cell_type": "markdown",
      "source": [
        "<div dir=\"rtl\" lang=\"he\">\n",
        "\n",
        "**פונקציות על מחרוזות**"
      ],
      "metadata": {
        "id": "WOEHNDz2WZGp"
      }
    },
    {
      "cell_type": "code",
      "source": [
        "print(len(name))              # מחזיר אורך המחרוזת\n",
        "print(name.upper())           # מחזיר מחרוזת חדשה עם אותיות גדולות\n",
        "print(name.lower())           # מחזיר מחרוזת חדשה עם אותיות קטנות\n",
        "print(name.capitalize())      # מחזיר מחרוזת חדשה עם האות הראשונה אות גדולה\n",
        "print(name.count(\"a\"))        # סופר את מספר התווים במחרוזת\n",
        "print(name.find(\"l\"))         # מחזיר את האינדקס הראשון של התו במחרוזת\n",
        "print(name.replace(\"a\", \"A\")) # מחזיר מחרוזת חדשה עם החלפה של האותיות\n",
        "print(name.isalpha())         # בודקת אם המחרוזת מכילה רק אותיות לא כולל רווחים\n",
        "print(\"123\".isdigit())        # בודקת אם המחרוזת מכילה רק מספרים"
      ],
      "metadata": {
        "colab": {
          "base_uri": "https://localhost:8080/"
        },
        "id": "PTeJDvVQDQOZ",
        "outputId": "91d7f0c2-62ea-4cc4-9ef4-4efa43aea43e"
      },
      "execution_count": null,
      "outputs": [
        {
          "output_type": "stream",
          "name": "stdout",
          "text": [
            "13\n",
            "GILAD MARKMAN\n",
            "gilad markman\n",
            "Gilad markman\n",
            "3\n",
            "2\n",
            "GilAd MArkmAn\n",
            "False\n",
            "True\n"
          ]
        }
      ]
    },
    {
      "cell_type": "code",
      "source": [
        "text = \"   ### Hello world !##   \"\n",
        "print(text.strip(), \"*******\")      # מסיר רווים מהתחלת וסוף המחרוזת, ולא מהאמצע\n",
        "print(text.rstrip(), \"*******\")     # מסיר רווחים מסוף המחרוזת - צד ימין\n",
        "print(text.lstrip(), \"*******\")     # מסיר רווחים מתחילת המחרוזת - צד שמאל\n",
        "text1 = \"### Hello world !##\"\n",
        "print(text1.strip(\"#\"))             # מסיר תווים מתחילת וסוף המחרוזת\n",
        "print(text1.lstrip(\"#\"))            # מסיר תווים מתחילת המחזורת\n",
        "print(text1.rstrip(\"! ##\"))         # מסיר תווים מסוף המחרוזת"
      ],
      "metadata": {
        "colab": {
          "base_uri": "https://localhost:8080/"
        },
        "id": "Gz7B-gSXF--1",
        "outputId": "e51ffdfb-0a9d-4681-c133-7a24d3c003dd"
      },
      "execution_count": null,
      "outputs": [
        {
          "output_type": "stream",
          "name": "stdout",
          "text": [
            "### Hello world !## *******\n",
            "   ### Hello world !## *******\n",
            "### Hello world !##    *******\n",
            " Hello world !\n",
            " Hello world !##\n",
            "### Hello world\n"
          ]
        }
      ]
    },
    {
      "cell_type": "markdown",
      "source": [
        "<div dir=\"rtl\" lang=\"he\">\n",
        "\n",
        "**הכלה וספירה**"
      ],
      "metadata": {
        "id": "SLHDrUtVHgVQ"
      }
    },
    {
      "cell_type": "code",
      "source": [
        "phone = \"052-2653732\"\n",
        "print(phone.count(\"2\"))\n",
        "print(\"65\" in phone)\n",
        "print(\"9\" not in phone)"
      ],
      "metadata": {
        "colab": {
          "base_uri": "https://localhost:8080/"
        },
        "id": "TVFmtZJ9Hfci",
        "outputId": "ef5985d3-7de6-4973-bb51-de6a73b49354"
      },
      "execution_count": null,
      "outputs": [
        {
          "output_type": "stream",
          "name": "stdout",
          "text": [
            "3\n",
            "True\n",
            "True\n"
          ]
        }
      ]
    },
    {
      "cell_type": "markdown",
      "source": [
        "<div dir=\"rtl\" lang=\"he\">\n",
        "\n",
        "# **<pre>   תרגילים**"
      ],
      "metadata": {
        "id": "4eZUavX3sxTY"
      }
    },
    {
      "cell_type": "markdown",
      "source": [
        "<div dir=\"rtl\" lang=\"he\">\n",
        "\n",
        "##**<pre>תרגיל - פעולות על מחרוזות**\n",
        "\n",
        "קלטו מחרוזת מהמשתמש, שמרו בתוך משתנה, ובצעו את הפעולות הבאות **באמצעות פונקציות של מחרוזות**:\n",
        "\n",
        "*   הדפיסו את המחרוזת.\n",
        "*   מחקו רווחים בשני צידי המחרוזת.\n",
        "*   הפכו את כל האותיות לקטנות (lowercase).\n",
        "*   הדפיסו את המחרוזת החדשה.\n",
        "*   הדפיסו את אורך המחרוזת.\n",
        "*   הדפיסו כמה פעמים האות a מופיעה במחרוזת.\n",
        "*   הדפיסו את האות הלפני אחרונה במחרוזת"
      ],
      "metadata": {
        "id": "kKc-rXeBU0Se"
      }
    },
    {
      "cell_type": "code",
      "source": [
        "txt = input(\"Enter text\")\n",
        "print(txt)\n",
        "print(txt.strip())\n",
        "txt = txt.lower()\n",
        "print(txt)\n",
        "print(len(txt))\n",
        "print(txt.count(\"a\"))\n",
        "print(txt[-2])"
      ],
      "metadata": {
        "id": "UOGBr9n6LBrN",
        "colab": {
          "base_uri": "https://localhost:8080/"
        },
        "outputId": "eb9f6c41-6aa6-48c4-f0e2-2a3be7ddce00"
      },
      "execution_count": null,
      "outputs": [
        {
          "output_type": "stream",
          "name": "stdout",
          "text": [
            "Enter textASDFAA\n",
            "ASDFAA\n",
            "ASDFAA\n",
            "asdfaa\n",
            "6\n",
            "3\n",
            "a\n"
          ]
        }
      ]
    },
    {
      "cell_type": "markdown",
      "source": [],
      "metadata": {
        "id": "EswgqnA7fxHn"
      }
    },
    {
      "cell_type": "markdown",
      "source": [
        "<div dir=\"rtl\" lang=\"he\">\n",
        "\n",
        "##**<pre> תרגיל - משוואה ריבועית**\n",
        "\n",
        "כתבו פונקציה הפותרת את המשוואה הריבועית. הפונקציה תקבל שלושה ערכים a, b, c\n",
        "ותחזיר את שני השורשים של המשוואה הריבועית בטאפל. אם יש שורש אחד תחזיר הפונקציה את השורש פעמיים. אם אין שורש - תחזיר הפונקציה none."
      ],
      "metadata": {
        "id": "9v-adNuW0MaC"
      }
    },
    {
      "cell_type": "code",
      "source": [
        "import math\n",
        "\n",
        "def quadratic(a, b, c):\n",
        "\n",
        "    discriminant = b**2 - 4*a*c\n",
        "    if discriminant < 0:\n",
        "        return None\n",
        "    elif discriminant == 0:\n",
        "        root = -b / (2 * a)\n",
        "        return (root, root)\n",
        "    else:\n",
        "        root1 = (-b + math.sqrt(discriminant)) / (2 * a)\n",
        "        root2 = (-b - math.sqrt(discriminant)) / (2 * a)\n",
        "        return (root1, root2)\n",
        "\n"
      ],
      "metadata": {
        "id": "eCbXy3lb1GID"
      },
      "execution_count": null,
      "outputs": []
    },
    {
      "cell_type": "code",
      "source": [
        "result = quadratic(1, -3, 2)\n",
        "print(result)\n",
        "\n",
        "result = quadratic(1, 2, 1)\n",
        "print(result)\n",
        "\n",
        "result = quadratic(1, 0, 1)\n",
        "print(result)"
      ],
      "metadata": {
        "colab": {
          "base_uri": "https://localhost:8080/"
        },
        "id": "oqnEQBoIU6wD",
        "outputId": "95b837b3-7698-4915-dd67-aae22681eee7"
      },
      "execution_count": null,
      "outputs": [
        {
          "output_type": "stream",
          "name": "stdout",
          "text": [
            "(2.0, 1.0)\n",
            "(-1.0, -1.0)\n",
            "None\n"
          ]
        }
      ]
    },
    {
      "cell_type": "markdown",
      "source": [
        "<div dir=\"rtl\" lang=\"he\">\n",
        "\n",
        "##**<pre>תרגיל - פונקציה לינארית**\n",
        "\n",
        "כתבו פונקציה המקבלת את הערכים של פונקציה לינארית m, b, וכן ערך x. הפונקציה מחזירה את ערך ה y של הפונקציה הלינארית.\n",
        "\n",
        "func (m, b, x) -> y\n",
        "\n",
        "y = mx + b"
      ],
      "metadata": {
        "id": "StiyH6t-F7I1"
      }
    },
    {
      "cell_type": "code",
      "source": [
        "def linear (m, b, x):\n",
        "  return m * x + b\n",
        "\n",
        "print(linear(2, 4, -1))"
      ],
      "metadata": {
        "colab": {
          "base_uri": "https://localhost:8080/"
        },
        "id": "YydKk41GgTJJ",
        "outputId": "301f63a0-75a2-4734-fa11-ef2e4459edc8"
      },
      "execution_count": null,
      "outputs": [
        {
          "output_type": "stream",
          "name": "stdout",
          "text": [
            "2\n"
          ]
        }
      ]
    },
    {
      "cell_type": "markdown",
      "source": [
        "<div dir=\"rtl\" lang=\"he\">\n",
        "\n",
        "##**<pre>תרגיל - חישוב חזקה**\n",
        "\n",
        "כתבו פונקציה בשם exp המקבלת שני מספרים שלמים ומחשבת את a^b.\n",
        "\n",
        "אין להשתמש באופרטר החזקה אלא רק בלולאה ובפעולת כפל.\n",
        "\n",
        "בסיום, זמנו את הפונקציה ובדקו אותה."
      ],
      "metadata": {
        "id": "IroCKaP4s0DU"
      }
    },
    {
      "cell_type": "code",
      "source": [
        "def exp (a, b):\n",
        "  res = 1\n",
        "  while b > 0:\n",
        "    res *= a\n",
        "    b -= 1\n",
        "  return res\n",
        "\n",
        "print(exp(2,4))"
      ],
      "metadata": {
        "id": "17ov8kRss3PC",
        "colab": {
          "base_uri": "https://localhost:8080/"
        },
        "outputId": "0a15787f-82d6-4165-89bb-de524df0a635"
      },
      "execution_count": null,
      "outputs": [
        {
          "output_type": "stream",
          "name": "stdout",
          "text": [
            "16\n"
          ]
        }
      ]
    },
    {
      "cell_type": "markdown",
      "source": [
        "<div dir=\"rtl\" lang=\"he\">\n",
        "\n",
        "##**<pre>תרגיל - מספרים ראשוניים**\n",
        "\n",
        "\n",
        "1.   כתבו פונקציה is_prime המקבלת ומספר ובודקת אם הוא ראשוני. הפונקציה מחזירה אמת או שקר.\n",
        "2.   כתבו פונקציה prime המקבלת טווח של מספרים (התחלה, סוף) ומדפיסה את כל המספרים הראשוניים בטווח.\n",
        "3.   זמנו את הפונקציה prime ובדקו את הקוד שלכם.\n",
        "\n",
        "\n"
      ],
      "metadata": {
        "id": "Zm9lB_0Js3qE"
      }
    },
    {
      "cell_type": "code",
      "source": [
        "def is_prime(num):\n",
        "  for d in range(2, num):\n",
        "    if num % d == 0:\n",
        "      return False\n",
        "  return True"
      ],
      "metadata": {
        "id": "n9wguGvJgf4E"
      },
      "execution_count": null,
      "outputs": []
    },
    {
      "cell_type": "code",
      "source": [
        "print(is_prime(4))"
      ],
      "metadata": {
        "colab": {
          "base_uri": "https://localhost:8080/"
        },
        "id": "elCF4vS4gwB8",
        "outputId": "25004ec2-ef59-4b07-9588-1d56b25edeaa"
      },
      "execution_count": null,
      "outputs": [
        {
          "output_type": "stream",
          "name": "stdout",
          "text": [
            "False\n"
          ]
        }
      ]
    },
    {
      "cell_type": "code",
      "source": [
        "def prime (start, end):\n",
        "  for num in range(start, end+1):\n",
        "    if is_prime(num):\n",
        "      print(num, end=\", \")\n",
        "  print(\"\\b\\b\")\n",
        "prime(4, 97)"
      ],
      "metadata": {
        "colab": {
          "base_uri": "https://localhost:8080/"
        },
        "id": "v5QFCfWbg75n",
        "outputId": "63932862-8d7b-4d85-aac1-21bb322bd26e"
      },
      "execution_count": null,
      "outputs": [
        {
          "output_type": "stream",
          "name": "stdout",
          "text": [
            "5, 7, 11, 13, 17, 19, 23, 29, 31, 37, 41, 43, 47, 53, 59, 61, 67, 71, 73, 79, 83, 89, 97, \b\b\n"
          ]
        }
      ]
    },
    {
      "cell_type": "markdown",
      "source": [
        "<div dir=\"rtl\" lang=\"he\">\n",
        "\n",
        "##**<pre>תרגיל - מילה ארוכה ביותר**\n",
        "\n",
        "1. כתבו פונקציה next_space המקבלת מחרוזת ומספר שלם המהווה אינדקס במחרוזת. הפונקציה תחזיר את האינדקס של התו \" \" הנמצא במחרוזת לאחר האינדקס. אם אין תו כזה הפונקציה מחזירה 1-. אין להשתמש בפונקציות של מחרוזות אלא רק לולאות.\n",
        "2. כתבו פונקציה longest_word המקבלת מחרוזת ומחזירה את המילה הארוכה ביותר. עליכם להשתמש בפונקציה בסעיף 1."
      ],
      "metadata": {
        "id": "UITTVs2ps4kG"
      }
    },
    {
      "cell_type": "code",
      "source": [
        "def next_space (st, index):\n",
        "  for i in range(index + 1, len(st)):\n",
        "    if st[i] == \" \":\n",
        "      return i\n",
        "  return -1\n",
        "\n",
        "txt = \"Hello my world\"\n",
        "print(next_space(txt, 8))\n"
      ],
      "metadata": {
        "id": "F2nS-2wWPnfa",
        "colab": {
          "base_uri": "https://localhost:8080/"
        },
        "outputId": "3978bcc8-e637-4d18-cf4d-dee0d62ccf44"
      },
      "execution_count": null,
      "outputs": [
        {
          "output_type": "stream",
          "name": "stdout",
          "text": [
            "-1\n"
          ]
        }
      ]
    },
    {
      "cell_type": "code",
      "source": [
        "def longest_word (st):\n",
        "  longest = \"\"\n",
        "  start = 0\n",
        "  end = 0\n",
        "  while end < len(st):\n",
        "    end = next_space(st, start)\n",
        "    if end ==-1:\n",
        "      end = len(st)\n",
        "    if end-start > len(longest):\n",
        "      longest = st[start:end]\n",
        "    start = end\n",
        "  return longest\n",
        "\n",
        "st = \"Hello, my name is Inigo Montoya. You killed my father. Prepare to die.\"\n",
        "print(longest_word(st))\n"
      ],
      "metadata": {
        "colab": {
          "base_uri": "https://localhost:8080/"
        },
        "id": "ZY99SX5pbERq",
        "outputId": "9d764763-2850-4250-8dfc-f78583f7ffca"
      },
      "execution_count": null,
      "outputs": [
        {
          "output_type": "stream",
          "name": "stdout",
          "text": [
            " Montoya.\n"
          ]
        }
      ]
    },
    {
      "cell_type": "markdown",
      "source": [
        "<div dir=\"rtl\" lang=\"he\">\n",
        "\n",
        "##**<pre>תרגיל - סכום הספרות במספר**\n",
        "\n",
        "כתוב פעולה המקבלת מספר שלם ומחזירה את סכום הספרות במספר. אסור להמיר את המספר למחרוזת. רמז:\n",
        "\n",
        "<div dir=\"ltr\">\n",
        "\n",
        "*   253 // 10 = 25\n",
        "*   253 % 10 = 3\n",
        "\n",
        "\n"
      ],
      "metadata": {
        "id": "tJv_4Uz1KZaN"
      }
    },
    {
      "cell_type": "code",
      "source": [
        "def sum_digit (num):\n",
        "  sum_d = 0\n",
        "  while num > 0:\n",
        "    sum_d += num % 10\n",
        "    num = num // 10\n",
        "  return sum_d"
      ],
      "metadata": {
        "id": "gfK1AHHOhrsU"
      },
      "execution_count": null,
      "outputs": []
    },
    {
      "cell_type": "code",
      "source": [
        "print(sum_digit(225791))"
      ],
      "metadata": {
        "colab": {
          "base_uri": "https://localhost:8080/"
        },
        "id": "mL_sXR6KkRzX",
        "outputId": "07d9d2cb-513f-4cde-bc22-da1483736f71"
      },
      "execution_count": null,
      "outputs": [
        {
          "output_type": "stream",
          "name": "stdout",
          "text": [
            "26\n"
          ]
        }
      ]
    },
    {
      "cell_type": "markdown",
      "source": [
        "<div dir=\"rtl\" lang=\"he\">\n",
        "\n",
        "\n",
        "##**<pre>תרגיל - הוסף אחד למספר בינארי**\n",
        "\n",
        "כתוב פונקציה bin_add המקבלת מספר בינארי כמחרוזת ומוסיפה לו את המספר 1. הפונקציה מחזירה מספר בינארי חדש כמחרוזת. כל המספרים חיוביים.\n",
        "דוגמה:\n",
        "\n",
        "*   בהתקבל המספר הבינארי: \"101111\"  התוצאה תהיה: \"110000\".\n",
        "*   בהתקבל המספר הבינארי: \"111\". התוצאה תהיה: \"1000\"\n",
        "\n"
      ],
      "metadata": {
        "id": "HS1Hhm1bMHyO"
      }
    },
    {
      "cell_type": "code",
      "source": [
        "def bin_add(bin):\n",
        "  c = 1\n",
        "  new_bin = \"\"\n",
        "  for i in range(len(bin)-1,-1,-1):\n",
        "    d = int(bin[i])\n",
        "    new_bin = str((d + c)% 2) + new_bin\n",
        "    c = (d + c) // 2\n",
        "  if c > 0:\n",
        "    new_bin = \"1\" + new_bin\n",
        "  return new_bin\n",
        "\n",
        "print(bin_add(\"1010111\"))"
      ],
      "metadata": {
        "colab": {
          "base_uri": "https://localhost:8080/"
        },
        "id": "1v3sDzSbhrCA",
        "outputId": "4c97068d-d9e1-489f-f127-1a7462ba1a34"
      },
      "execution_count": null,
      "outputs": [
        {
          "output_type": "stream",
          "name": "stdout",
          "text": [
            "1011000\n"
          ]
        }
      ]
    },
    {
      "cell_type": "markdown",
      "source": [
        "<div dir=\"rtl\" lang=\"he\">\n",
        "\n",
        "\n",
        "##**<pre>תרגיל - מחרוזות**\n",
        "\n",
        "1. כתבו פונקציה המקבלת מחרוזת ותו ומוחקת את כל מופעי התו מן המחרוזת. הפונקציה תחזיר מחרוזת חדשה ללא התו. אם התו לא קיים במחרוזת הפוקנציה תחזיר את המחרוזת ללא שינוי.\n",
        "2.  כתבו פונקציה unique המקבלת מחרוזת ומחזירה מחרוזת חדשה הכוללת את התווים של המחרוזת ללא כפילויות. יש להשתמש בפונקציה בסעיף 1.\n",
        "לדוגמה: אם המחרוזת \"aadbcabcad\". הפונקציה תחזיר \"adbc\".\n",
        "\n",
        "אין להשתמש בפונקציות של מחרוזות למעט len."
      ],
      "metadata": {
        "id": "6AnOElS5Nhmo"
      }
    },
    {
      "cell_type": "code",
      "source": [
        "def del_char(st, ch):\n",
        "  res = \"\"\n",
        "  for char in st:\n",
        "    if char != ch:\n",
        "      res += char\n",
        "  return res\n",
        "\n",
        "print(del_char(\"abaacfrta\", \"a\"))"
      ],
      "metadata": {
        "id": "DBXvD0bUOl6c",
        "colab": {
          "base_uri": "https://localhost:8080/"
        },
        "outputId": "4425dbc7-e366-4410-ed8a-a7ab64db591d"
      },
      "execution_count": null,
      "outputs": [
        {
          "output_type": "stream",
          "name": "stdout",
          "text": [
            "bcfrt\n"
          ]
        }
      ]
    },
    {
      "cell_type": "code",
      "source": [
        "def unique (st):\n",
        "  res = \"\"\n",
        "  while len(st) > 0:\n",
        "    res += st[0]\n",
        "    st = del_char(st, st[0])\n",
        "  return res\n",
        "\n",
        "st = \"aadbcabcad\"\n",
        "print(unique(st))"
      ],
      "metadata": {
        "colab": {
          "base_uri": "https://localhost:8080/"
        },
        "id": "FBBq2_E3cO75",
        "outputId": "56e859fe-6c49-4318-8e22-d7d684fea727"
      },
      "execution_count": null,
      "outputs": [
        {
          "output_type": "stream",
          "name": "stdout",
          "text": [
            "adbc\n"
          ]
        }
      ]
    },
    {
      "cell_type": "markdown",
      "source": [
        "<div dir=\"rtl\" lang=\"he\">\n",
        "\n",
        "##**<pre>תרגיל - מרחק בין נקודות**\n",
        "\n",
        "כתבו פונקציה המקבלת קורדינטות של שתי נקודות x1, y1, x2, y2 ומחזירה את המרחק בין הנקודות.\n",
        "\n",
        "חפשו באינטרנט כיצד משתמשים בפונקציות מתמטיות של המחלקה math."
      ],
      "metadata": {
        "id": "U-2RGiPDFQXA"
      }
    },
    {
      "cell_type": "code",
      "source": [
        "import math\n",
        "def distance (point1, point2):\n",
        "  x1, y1 = point1\n",
        "  x2, y2 = point2\n",
        "  return math.sqrt((x1-x2)**2 + (y1-y2)**2)\n",
        "\n",
        "print(distance((3,4),(-3,-4)))"
      ],
      "metadata": {
        "colab": {
          "base_uri": "https://localhost:8080/"
        },
        "id": "kTN9O_pXhtyB",
        "outputId": "f6d5c155-29ae-4a33-d321-b063aae62312"
      },
      "execution_count": null,
      "outputs": [
        {
          "output_type": "stream",
          "name": "stdout",
          "text": [
            "10.0\n"
          ]
        }
      ]
    }
  ]
}