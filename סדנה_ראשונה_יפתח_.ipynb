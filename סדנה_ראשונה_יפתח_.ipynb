{
  "nbformat": 4,
  "nbformat_minor": 0,
  "metadata": {
    "colab": {
      "provenance": [],
      "include_colab_link": true
    },
    "kernelspec": {
      "name": "python3",
      "display_name": "Python 3"
    },
    "language_info": {
      "name": "python"
    }
  },
  "cells": [
    {
      "cell_type": "markdown",
      "metadata": {
        "id": "view-in-github",
        "colab_type": "text"
      },
      "source": [
        "<a href=\"https://colab.research.google.com/github/Yigael-Laloum/Yigael-Laloum/blob/main/%D7%A1%D7%93%D7%A0%D7%94_%D7%A8%D7%90%D7%A9%D7%95%D7%A0%D7%94_%D7%99%D7%A4%D7%AA%D7%97_.ipynb\" target=\"_parent\"><img src=\"https://colab.research.google.com/assets/colab-badge.svg\" alt=\"Open In Colab\"/></a>"
      ]
    },
    {
      "cell_type": "code",
      "execution_count": null,
      "metadata": {
        "id": "_-HP3mr_jM4J"
      },
      "outputs": [],
      "source": []
    },
    {
      "cell_type": "markdown",
      "source": [
        "סדנה ראשונה:\n",
        "\n",
        "לינקים\n",
        "\n",
        "https://poe.com/\n",
        "\n",
        "https://aistudio.google.com/prompts/new_chat\n",
        "\n",
        "\n",
        "https://notebooklm.google/\n",
        "\n",
        "\n",
        "https://console.groq.com/playground\n",
        "\n",
        "https://platform.openai.com/docs/guides/prompt-engineering\n"
      ],
      "metadata": {
        "id": "57_GUKB0jNS4"
      }
    },
    {
      "cell_type": "code",
      "source": [
        "הדגמה של לוגים\n",
        "  Top 10 Alternatives:\n",
        "    As: Probability = 39.03%\n",
        "    I: Probability = 12.83%\n",
        "    In: Probability = 10.69%\n",
        "    The: Probability = 6.46%\n",
        "    And: Probability = 3.37%\n",
        "    It: Probability = 3.17%\n",
        "    For: Probability = 2.59%\n",
        "    So: Probability = 1.94%\n",
        "    Whether: Probability = 1.55%\n",
        "    That: Probability = 1.46%\n",
        "  Is most probable? Yes\n",
        "\n",
        "Token 2: ' I' - Probability = 28.26%\n",
        "  Top 10 Alternatives:\n",
        "     the: Probability = 32.79%\n",
        "     for: Probability = 30.87%\n",
        "     I: Probability = 28.26%\n",
        "     we: Probability = 2.31%\n",
        "     my: Probability = 1.92%\n",
        "     much: Probability = 1.44%\n",
        "     a: Probability = 0.91%\n",
        "     our: Probability = 0.31%\n",
        "     someone: Probability = 0.30%\n",
        "     long: Probability = 0.08%\n",
        "  Is most probable? No\n",
        "\n",
        "Token 3: ' flew' - Probability = 0.00%\n",
        "  Top 10 Alternatives:\n",
        "     write: Probability = 31.77%\n",
        "     unpack: Probability = 20.19%\n",
        "     settle: Probability = 11.97%\n",
        "     sit: Probability = 5.21%\n",
        "     settled: Probability = 4.15%\n",
        "     watch: Probability = 3.74%\n",
        "     watched: Probability = 3.70%\n",
        "     look: Probability = 2.80%\n",
        "     type: Probability = 2.13%\n",
        "     walked: Probability = 0.93%\n",
        "  Is most probable? No\n",
        "\n",
        "Token 4: ' back' - Probability = 72.65%\n",
        "  Top 10 Alternatives:\n",
        "     back: Probability = 72.65%\n",
        "     over: Probability = 15.56%\n",
        "     home: Probability = 7.23%\n",
        "     above: Probability = 1.22%\n",
        "     out: Probability = 1.17%\n",
        "     away: Probability = 0.56%\n",
        "     east: Probability = 0.26%\n",
        "     west: Probability = 0.26%\n",
        "     overhead: Probability = 0.19%\n",
        "     high: Probability = 0.18%\n",
        "  Is most probable? Yes\n"
      ],
      "metadata": {
        "colab": {
          "base_uri": "https://localhost:8080/",
          "height": 106
        },
        "id": "yYClcPBmduVh",
        "outputId": "d1ccf82a-b506-49a9-d835-085d377a7fdf"
      },
      "execution_count": null,
      "outputs": [
        {
          "output_type": "error",
          "ename": "SyntaxError",
          "evalue": "invalid syntax (<ipython-input-1-d6f3dded4e94>, line 1)",
          "traceback": [
            "\u001b[0;36m  File \u001b[0;32m\"<ipython-input-1-d6f3dded4e94>\"\u001b[0;36m, line \u001b[0;32m1\u001b[0m\n\u001b[0;31m    Overall Average Probability: 53.28%\u001b[0m\n\u001b[0m            ^\u001b[0m\n\u001b[0;31mSyntaxError\u001b[0m\u001b[0;31m:\u001b[0m invalid syntax\n"
          ]
        }
      ]
    }
  ]
}