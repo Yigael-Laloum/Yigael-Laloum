{
  "nbformat": 4,
  "nbformat_minor": 0,
  "metadata": {
    "colab": {
      "provenance": [],
      "collapsed_sections": [
        "9PLUfRjuOrEi",
        "n3QmAIa9-gx4",
        "RCYLcOudDCCG",
        "-9lT-m5CT681",
        "3eO0r8_AXtBZ"
      ],
      "toc_visible": true,
      "include_colab_link": true
    },
    "kernelspec": {
      "name": "python3",
      "display_name": "Python 3"
    },
    "language_info": {
      "name": "python"
    }
  },
  "cells": [
    {
      "cell_type": "markdown",
      "metadata": {
        "id": "view-in-github",
        "colab_type": "text"
      },
      "source": [
        "<a href=\"https://colab.research.google.com/github/Yigael-Laloum/Yigael-Laloum/blob/main/%D7%A2%D7%95%D7%AA%D7%A7_%D7%A9%D7%9C_6_%D7%A9%D7%95%D7%95%D7%99%D7%95%D7%9F_%D7%95%D7%96%D7%94%D7%95%D7%AA_%D7%9C%D7%9C%D7%90_%D7%A4%D7%AA%D7%A8%D7%95%D7%9F.ipynb\" target=\"_parent\"><img src=\"https://colab.research.google.com/assets/colab-badge.svg\" alt=\"Open In Colab\"/></a>"
      ]
    },
    {
      "cell_type": "markdown",
      "source": [
        "![מטלות.jpg](https://drive.google.com/uc?export=view&id=1-BH5tyJQQFyuiP1yKmQk9jY_zXtf0vDL)\n",
        "\n"
      ],
      "metadata": {
        "id": "sUBIrFAfLUJg"
      }
    },
    {
      "cell_type": "markdown",
      "source": [
        "<div dir=\"rtl\" lang=\"he\">\n",
        "\n",
        "#**<pre>          יצוג משתנים בזכרון**"
      ],
      "metadata": {
        "id": "9PLUfRjuOrEi"
      }
    },
    {
      "cell_type": "markdown",
      "source": [
        "<div dir=\"rtl\" lang=\"he\">\n",
        "\n",
        "בפייתון כל משתנה מיוצג בזיכרון על ידי שני ערכים:\n",
        "* מצביע - הנוצר במחסנית stack ומצביע לערך של המשתנה הממוקם בערימה.\n",
        "* ערך המשתנה - הנוצר בערימה heap.\n",
        "\n",
        "כאשר שני משתנים מצביעים לאותו ערך, אנו קוראים למצב זה aliasing."
      ],
      "metadata": {
        "id": "06p2quQCvRHG"
      }
    },
    {
      "cell_type": "markdown",
      "source": [
        "\n",
        "<div>\n",
        "<img src=\"https://drive.google.com/uc?export=view&id=1-Fr3JggMcVp-7FvkMd30T73XTZnuFZHA\" width=\"400\" height=\"300\" border=\"3px\"/>\n",
        "\n",
        "<img src=\"https://drive.google.com/uc?export=view&id=1-ILDHeC7eH9Pp0mXo0MYjCqFjNoo8yIz\" width=\"400\" height=\"300\" border=\"3px\"/>\n",
        "\n",
        "\n",
        "</div>\n"
      ],
      "metadata": {
        "id": "gtbUWUCq0Oz6"
      }
    },
    {
      "cell_type": "code",
      "source": [
        "a = \"Gilad\"\n",
        "b = a\n",
        "a = \"Orly\"\n",
        "print(b)"
      ],
      "metadata": {
        "id": "_XvAVFEA2yWp"
      },
      "execution_count": null,
      "outputs": []
    },
    {
      "cell_type": "code",
      "source": [
        "a = [1, 3, 5]\n",
        "b = a\n",
        "a = [3, 3, 3]\n",
        "print(b)"
      ],
      "metadata": {
        "id": "asjxCBIX26kh"
      },
      "execution_count": null,
      "outputs": []
    },
    {
      "cell_type": "markdown",
      "source": [
        "<div dir=\"rtl\" lang=\"he\">\n",
        "\n",
        "**mutable vs. Immutable**\n",
        "\n",
        "*   mutable - ניתן לשינוי. משתנים אילו ניתן לשנות את הערך שלהם בערמה.\n",
        "*   immutable - א ניתן לשינוי. במשתנים אילו לא ניתן לשנות את הערך בערימה. שינוי של הערך מחייב יצירת ערך חדש והמצביע מתעדכן למיקום הערך החדש.\n",
        "\n",
        "> **דוגמה:**\n",
        "\n"
      ],
      "metadata": {
        "id": "FCiwbtmsOykz"
      }
    },
    {
      "cell_type": "code",
      "source": [
        "a = [1,2]\n",
        "b = a         # aliasing\n",
        "b[1] = 3      # שינוי הערך בערימה\n",
        "print(a)      # מדפיס את הערך שהשתנה"
      ],
      "metadata": {
        "colab": {
          "base_uri": "https://localhost:8080/"
        },
        "id": "LSvwC3_lPf3k",
        "outputId": "e67d67c1-4ce5-4dc3-9bdd-73596e689cd8"
      },
      "execution_count": null,
      "outputs": [
        {
          "output_type": "stream",
          "name": "stdout",
          "text": [
            "[1, 3]\n"
          ]
        }
      ]
    },
    {
      "cell_type": "code",
      "source": [
        "a = \"text\"      # immutable\n",
        "b = a           # aliasing\n",
        "a = a.upper()   # יצירת ערך חדש בערימה ולא שינוי של הערך הקיים\n",
        "print(b)        # text\n",
        "print(a)        # TEXT"
      ],
      "metadata": {
        "id": "ATy7LFm_RsNw"
      },
      "execution_count": null,
      "outputs": []
    },
    {
      "cell_type": "markdown",
      "source": [
        "<div dir=\"rtl\" lang=\"he\">\n",
        "\n",
        "#**<pre>          העתקה - copy**"
      ],
      "metadata": {
        "id": "n3QmAIa9-gx4"
      }
    },
    {
      "cell_type": "markdown",
      "source": [
        "<div dir=\"rtl\" lang=\"he\">\n",
        "\n",
        "פעולת ההצבה (=) מבצעת העתקה של המצביע בלבד ולא של הערך. על כן, פעולה זו יוצרת aliasing ולא ערך חדש.\n",
        "\n",
        "אם אנחנו מעוניינים לבצע העתקה של משתנה תוך \"שכפול\" הערך בערימה, עלינו להשתמש בפעולות אחרות ולא רק בהצבה.\n",
        "\n",
        "**שכפול רשימה:**\n",
        "\n",
        "נראה מספר דרכים לבצע שכפול של רשימה\n",
        "\n",
        "*   הפונקציה ()copy\n",
        "*   יצירת רשימה חדשה באמצעות ()list\n",
        "\n"
      ],
      "metadata": {
        "id": "N_YbrUJD-q08"
      }
    },
    {
      "cell_type": "code",
      "source": [
        "lst1 = [1,2,3]\n",
        "lst2 = lst1           # aliasing\n",
        "lst3 = lst1.copy()    # העתקה\n",
        "lst4 = list(lst1)     # יצירת רשימה חדשה\n",
        "\n",
        "lst1.append(4)\n",
        "\n",
        "print(lst1)\n",
        "print(lst2)\n",
        "print(lst3)\n",
        "print(lst4)"
      ],
      "metadata": {
        "colab": {
          "base_uri": "https://localhost:8080/"
        },
        "id": "CQMgATw3_kbc",
        "outputId": "9b83cccf-ae13-4cdf-80b5-07ee9b8c00e1"
      },
      "execution_count": null,
      "outputs": [
        {
          "output_type": "stream",
          "name": "stdout",
          "text": [
            "[1, 2, 3, 4]\n",
            "[1, 2, 3, 4]\n",
            "[1, 2, 3]\n",
            "[1, 2, 3]\n"
          ]
        }
      ]
    },
    {
      "cell_type": "markdown",
      "source": [
        "<div dir=\"rtl\" lang=\"he\">\n",
        "\n",
        "#**<pre>          העתקה רדודה - העתקה עמוקה**\n"
      ],
      "metadata": {
        "id": "kUjgkqesDX3X"
      }
    },
    {
      "cell_type": "markdown",
      "source": [
        "<div dir=\"rtl\">\n",
        "\n",
        "פעולות העתקה שראינו לעיל עוברות על כל הערכים של הרשימה ויוצרים רשימה חדשה עם העתק של הערכים.\n",
        "מה קורה אם הערכים של הרשימה הם מצביעים בעצמם ? לדוגמה במקרה של רשימה דו מימדית.\n",
        "\n",
        "במקרה זה שיטות העתקה שראינו לעיל יבצעו העתקה של המצביע (שנמצא בערימה) ולא העתקה של הערך אליו הוא מצביע. נדגים:\n"
      ],
      "metadata": {
        "id": "uHMA-Yap_8ry"
      }
    },
    {
      "cell_type": "code",
      "source": [
        "lst = [[1,2], [3,4]]\n",
        "print(lst)\n",
        "lst_copy = lst.copy() # shellow copy\n",
        "lst[0][1] = 5\n",
        "print(lst_copy)"
      ],
      "metadata": {
        "colab": {
          "base_uri": "https://localhost:8080/"
        },
        "id": "fxVu3uusAxSu",
        "outputId": "9d926b3e-5b6b-4597-964e-e28808882ff1"
      },
      "execution_count": null,
      "outputs": [
        {
          "output_type": "stream",
          "name": "stdout",
          "text": [
            "[[1, 2], [3, 4]]\n",
            "[[1, 5], [3, 4]]\n"
          ]
        }
      ]
    },
    {
      "cell_type": "code",
      "source": [
        "lst[0] = [6,7]\n",
        "print(lst_copy)\n",
        "lst[1][1] = 12\n",
        "print(lst_copy)"
      ],
      "metadata": {
        "colab": {
          "base_uri": "https://localhost:8080/"
        },
        "id": "K8EJWR4tuqad",
        "outputId": "6fe77559-15fb-43f0-e0a1-3e3e9133edd5"
      },
      "execution_count": null,
      "outputs": [
        {
          "output_type": "stream",
          "name": "stdout",
          "text": [
            "[[1, 5], [3, 4]]\n",
            "[[1, 5], [3, 12]]\n"
          ]
        }
      ]
    },
    {
      "cell_type": "markdown",
      "source": [
        "\n",
        "<div>\n",
        "<img src=\"https://drive.google.com/uc?export=view&id=1-IkWrjuwd5Gx-mbh636maKDLjo6SeC2B\" width=\"300\"/>\n",
        "</div>\n"
      ],
      "metadata": {
        "id": "V5ycASEwC56j"
      }
    },
    {
      "cell_type": "markdown",
      "source": [
        "<div dir=\"rtl\" lang=\"he\">\n",
        "\n",
        "**העתקה עמוקה**\n",
        "\n",
        " על מנת לבצע העתקה עמוקה עלינו להשתמש  בפונקציה מתאימה: () deepcopy\n"
      ],
      "metadata": {
        "id": "82FIrggoDTbr"
      }
    },
    {
      "cell_type": "code",
      "source": [
        "import copy\n",
        "lst = [[1,2], [3,4]]\n",
        "print(lst)\n",
        "lst_copy = copy.deepcopy(lst) # deep copy\n",
        "lst[0][1] = 5\n",
        "print(lst_copy)\n",
        "print(lst)"
      ],
      "metadata": {
        "colab": {
          "base_uri": "https://localhost:8080/"
        },
        "id": "sAoUCrPVDqxC",
        "outputId": "a8a83eeb-f822-4424-fde8-a91998e8fa35"
      },
      "execution_count": null,
      "outputs": [
        {
          "output_type": "stream",
          "name": "stdout",
          "text": [
            "[[1, 2], [3, 4]]\n",
            "[[1, 2], [3, 4]]\n",
            "[[1, 5], [3, 4]]\n"
          ]
        }
      ]
    },
    {
      "cell_type": "markdown",
      "source": [
        "<div dir=\"rtl\" lang=\"he\">\n",
        "\n",
        "##**<pre>תרגיל**\n",
        "\n",
        "כתבו פונקציה המקבלת רשימה דו מימדית שכל איבר הוא טאפל של מספרים, ומחזירה העתק עמוק של הרשימה. אין להשתמש בפונקציה deepcopy."
      ],
      "metadata": {
        "id": "FZv8QK6BChrO"
      }
    },
    {
      "cell_type": "code",
      "source": [
        "def deep_copy (lst):\n",
        "  copy_lst = []\n",
        "  for row in lst:\n",
        "    lst1 = []\n",
        "    for item in row:\n",
        "      lst1.append(item)\n",
        "    copy_lst.append(lst1)\n",
        "  return copy_lst"
      ],
      "metadata": {
        "id": "oBZoP1ZcSWy7"
      },
      "execution_count": null,
      "outputs": []
    },
    {
      "cell_type": "code",
      "source": [
        "\n",
        "lst = [[(1,2),(3,4), (5,6)],[(7,8),(9,10)]]\n",
        "\n",
        "lst2 = deep_copy(lst)\n",
        "print (lst2)\n",
        "lst[0][0] = (0,0)\n",
        "print(lst)\n",
        "print(lst2)"
      ],
      "metadata": {
        "id": "zMPCUGqXDKCU"
      },
      "execution_count": null,
      "outputs": []
    },
    {
      "cell_type": "markdown",
      "source": [
        "<div dir=\"rtl\" lang=\"he\">\n",
        "\n",
        "#**<pre>          שוויון בין אובייקטים**"
      ],
      "metadata": {
        "id": "RCYLcOudDCCG"
      }
    },
    {
      "cell_type": "markdown",
      "source": [
        "<div dir=\"rtl\" lang=\"he\">\n",
        "\n",
        "* האופרטור == מבצע שוויון בין ערכי המשתנה.\n",
        "* האופרטור is בודק אם מדובר באותו אובייקט.\n"
      ],
      "metadata": {
        "id": "17nzhl32Dpve"
      }
    },
    {
      "cell_type": "code",
      "source": [
        "a = [1, 2]\n",
        "b = [1, 2]\n",
        "c = a\n",
        "print(a == b) # true - The value is equal\n",
        "print(a is b) # false - two different objects\n",
        "print(a is c) # true - the same object."
      ],
      "metadata": {
        "id": "bdmgtI7YEBKS"
      },
      "execution_count": null,
      "outputs": []
    },
    {
      "cell_type": "markdown",
      "source": [
        "<div dir=\"rtl\" lang=\"he\">\n",
        "\n",
        "#**<pre>          יחס בין אובייקטים והפונקציה sort**\n",
        "\n"
      ],
      "metadata": {
        "id": "Yd6SrSu1DIKZ"
      }
    },
    {
      "cell_type": "markdown",
      "source": [
        "<div dir=\"rtl\" lang=\"he\">\n",
        "\n",
        "על מנת שנוכל למיין רשימה של אובייקטים עלינו להגדיר \"סדר\" בין האובייקטים.\n",
        "\n",
        "\"סדר\" מחייב להגדיר את להגדיר את היחס גדול מ או קטן מ.\n",
        "\n",
        "יחס סדר מוגדר לנו על ידי פייתון בין מספרים וגם בין מחרוזות:\n",
        "* בין מספרים - יחס אריטמטי רגיל.\n",
        "* בין מחרוזות - יחס מילוני לקסיקוגרפי\n",
        "\n",
        "לגבי אובייקטים אחרים עלינו להגדיר בעצמנו את היחס. לעיתים היחס מוגדר אך לא מתאים לנו, ולעיתים אין כלל הגדרה של היחס."
      ],
      "metadata": {
        "id": "CJ9qn15aHOE4"
      }
    },
    {
      "cell_type": "code",
      "source": [
        "a = \"5\"\n",
        "b = 5\n",
        "print (a > b) # error"
      ],
      "metadata": {
        "id": "w7ulmb0pHDy7",
        "colab": {
          "base_uri": "https://localhost:8080/",
          "height": 176
        },
        "outputId": "eb172ab8-f7e5-4c1b-e066-3543a612f7d0"
      },
      "execution_count": null,
      "outputs": [
        {
          "output_type": "error",
          "ename": "TypeError",
          "evalue": "'>' not supported between instances of 'str' and 'int'",
          "traceback": [
            "\u001b[0;31m---------------------------------------------------------------------------\u001b[0m",
            "\u001b[0;31mTypeError\u001b[0m                                 Traceback (most recent call last)",
            "\u001b[0;32m<ipython-input-11-488b33211363>\u001b[0m in \u001b[0;36m<cell line: 3>\u001b[0;34m()\u001b[0m\n\u001b[1;32m      1\u001b[0m \u001b[0ma\u001b[0m \u001b[0;34m=\u001b[0m \u001b[0;34m\"5\"\u001b[0m\u001b[0;34m\u001b[0m\u001b[0;34m\u001b[0m\u001b[0m\n\u001b[1;32m      2\u001b[0m \u001b[0mb\u001b[0m \u001b[0;34m=\u001b[0m \u001b[0;36m5\u001b[0m\u001b[0;34m\u001b[0m\u001b[0;34m\u001b[0m\u001b[0m\n\u001b[0;32m----> 3\u001b[0;31m \u001b[0mprint\u001b[0m \u001b[0;34m(\u001b[0m\u001b[0ma\u001b[0m \u001b[0;34m>\u001b[0m \u001b[0mb\u001b[0m\u001b[0;34m)\u001b[0m \u001b[0;31m# error\u001b[0m\u001b[0;34m\u001b[0m\u001b[0;34m\u001b[0m\u001b[0m\n\u001b[0m",
            "\u001b[0;31mTypeError\u001b[0m: '>' not supported between instances of 'str' and 'int'"
          ]
        }
      ]
    },
    {
      "cell_type": "code",
      "source": [
        "a = [2, 2]\n",
        "b = [3, 4]\n",
        "c = [1, 12]\n",
        "print(b > a)\n",
        "print(c > a)"
      ],
      "metadata": {
        "colab": {
          "base_uri": "https://localhost:8080/"
        },
        "id": "hSydgzOiIYIG",
        "outputId": "ae323143-eb73-4a5f-e972-65dd6d9960bf"
      },
      "execution_count": null,
      "outputs": [
        {
          "output_type": "stream",
          "name": "stdout",
          "text": [
            "True\n",
            "False\n"
          ]
        }
      ]
    },
    {
      "cell_type": "markdown",
      "source": [
        "<div dir=\"rtl\" lang=\"he\">\n",
        "\n",
        "**sort - sorted**\n",
        "\n",
        "הפעולה sort של list ממיינת את המחרוזת עליה היא מופעלת ומשנה את המחרוזת.\n",
        "\n",
        "הפעולה sorted מחזירה מחרוזת חדשה וממוינת."
      ],
      "metadata": {
        "id": "KR8RbW6-JKGA"
      }
    },
    {
      "cell_type": "code",
      "source": [
        "lst1 = [1, 2, 4, 3]\n",
        "lst1.sort(reverse=True)\n",
        "print(lst1)"
      ],
      "metadata": {
        "colab": {
          "base_uri": "https://localhost:8080/"
        },
        "id": "cs-_cnt7FiSn",
        "outputId": "d8902433-0f6d-44e2-e727-4717a9cb1c8a"
      },
      "execution_count": null,
      "outputs": [
        {
          "output_type": "stream",
          "name": "stdout",
          "text": [
            "[4, 3, 2, 1]\n"
          ]
        }
      ]
    },
    {
      "cell_type": "code",
      "source": [
        "lst2 = [1, 2, 3, 4]\n",
        "lst3 = sorted(lst2, reverse=True)\n",
        "print(lst2)\n",
        "print(lst3)"
      ],
      "metadata": {
        "colab": {
          "base_uri": "https://localhost:8080/"
        },
        "id": "c3oikBNcF5uj",
        "outputId": "2d03ca46-7e92-43a1-d8a9-d15158972e2c"
      },
      "execution_count": null,
      "outputs": [
        {
          "output_type": "stream",
          "name": "stdout",
          "text": [
            "[1, 2, 3, 4]\n",
            "[4, 3, 2, 1]\n"
          ]
        }
      ]
    },
    {
      "cell_type": "markdown",
      "source": [
        "<div dir=\"rtl\" lang=\"he\">\n",
        "\n",
        "על מנת למיין מחרוזת של אובייקטים עלינו להגדיר את יחס הסדר בין האובייקטים.\n",
        "\n",
        "הפעולות sort יכולות לקבל פונקציה אשר תחזיר ערך שעל פיו יקבע היחס.\n",
        "מקובל להשתמש בפונקציות lambda לצורך כך.\n",
        "הפונקציה מקבלת איבר מהרשימה ומחזירה ערך בעל סדר ידוע לפייתון שעל פיו הרשימה ממוינת.\n",
        "\n",
        "נדגים עם מחרוזת של טאפלים."
      ],
      "metadata": {
        "id": "NvTkjpgHJb2-"
      }
    },
    {
      "cell_type": "code",
      "source": [
        "lst3 = [(3,4), (1,2), (3,3), (0, 5), (5,0)]\n",
        "lst3.sort()\n",
        "print(lst3) # ממיין לפי האיבר הראשון"
      ],
      "metadata": {
        "colab": {
          "base_uri": "https://localhost:8080/"
        },
        "id": "9KVh2qWcF_Fd",
        "outputId": "b0c1e818-7a5e-416a-82d4-6246022ded5b"
      },
      "execution_count": null,
      "outputs": [
        {
          "output_type": "stream",
          "name": "stdout",
          "text": [
            "[(0, 5), (1, 2), (3, 3), (3, 4), (5, 0)]\n"
          ]
        }
      ]
    },
    {
      "cell_type": "code",
      "source": [
        "my_sort = lambda x : x[0]+x[1]\n",
        "lst3 = [(3,4), (1,2), (3,3), (0, 5), (5,0)]\n",
        "lst3.sort(key=lambda x : x[0]+x[1]) # ממיין לפי סכום האיברים\n",
        "print(lst3)"
      ],
      "metadata": {
        "colab": {
          "base_uri": "https://localhost:8080/"
        },
        "id": "Y6pwfqiMGTa6",
        "outputId": "fa9c0ba0-7f5b-457b-8c1b-d516b2d18a47"
      },
      "execution_count": null,
      "outputs": [
        {
          "output_type": "stream",
          "name": "stdout",
          "text": [
            "[(1, 2), (0, 5), (5, 0), (3, 3), (3, 4)]\n"
          ]
        }
      ]
    },
    {
      "cell_type": "code",
      "source": [
        "def my_sort(x):\n",
        "  return x[0]+x[1]\n",
        "\n",
        "lst3 = [(3,4), (1,2), (3,3), (0, 5), (5,0)]\n",
        "lst3.sort(key=my_sort, reverse=True)          #  ממיין לפי סכום האיברים בסדר הפוך\n",
        "print(lst3)"
      ],
      "metadata": {
        "colab": {
          "base_uri": "https://localhost:8080/"
        },
        "id": "UkZ0t0izKDya",
        "outputId": "c034a0e1-04a8-44e7-a55d-2828aa5e532d"
      },
      "execution_count": null,
      "outputs": [
        {
          "output_type": "stream",
          "name": "stdout",
          "text": [
            "[(3, 4), (3, 3), (0, 5), (5, 0), (1, 2)]\n"
          ]
        }
      ]
    },
    {
      "cell_type": "code",
      "source": [
        "lst4 = [1,22,3,12,4,5,61]\n",
        "lst4.sort(key = lambda v: -v )\n",
        "print(lst4)"
      ],
      "metadata": {
        "colab": {
          "base_uri": "https://localhost:8080/"
        },
        "id": "ryIsxnRX2uoH",
        "outputId": "c438271e-ce9e-4a78-b6d4-1394df649d76"
      },
      "execution_count": null,
      "outputs": [
        {
          "output_type": "stream",
          "name": "stdout",
          "text": [
            "[61, 22, 12, 5, 4, 3, 1]\n"
          ]
        }
      ]
    },
    {
      "cell_type": "markdown",
      "source": [
        "<div dir=\"rtl\" lang=\"he\">\n",
        "\n",
        "##**תרגיל מיון רשימה**\n"
      ],
      "metadata": {
        "id": "uA08VORRK3ba"
      }
    },
    {
      "cell_type": "markdown",
      "source": [
        "<div dir=\"rtl\" lang=\"he\">\n",
        "\n",
        "**תרגיל**\n",
        "\n",
        "תאריך בשאלה זו הינו טאפל הכולל (יום, חודש, שנה).\n",
        "\n",
        "כתבו פעולה המקבלת רשימה של תאריכים וממיינת אותם מהתאריך המוקדם למאוחר.\n",
        "עליכם להשתמש בפונקציה sort ובפונקציה למבדה.\n",
        "\n",
        "רמז: המירו את התאריך למספר אחד שניתן להשוואה\n"
      ],
      "metadata": {
        "id": "-TtJFF6cKLMS"
      }
    },
    {
      "cell_type": "code",
      "source": [
        "lst = [(12,8,2020), (12,8,1968), (13,8,2020), (12,9,2020)]\n",
        "\n"
      ],
      "metadata": {
        "id": "4o1sKTboKxi5"
      },
      "execution_count": null,
      "outputs": []
    },
    {
      "cell_type": "markdown",
      "source": [
        "<div dir=\"rtl\" lang=\"he\">\n",
        "\n",
        "**תרגיל**\n",
        "\n",
        "כתבו פעולה המקבלת רשימה של מספרים שלמים וממיינת אותם לפי ספרת האחדות.\n",
        "יש להשתמש בפונקציית למבדה.\n",
        "אם ספרת האחדות זהה אין חשיבות לסדר ביניהם."
      ],
      "metadata": {
        "id": "AjkiJyxcLgxy"
      }
    },
    {
      "cell_type": "code",
      "source": [],
      "metadata": {
        "id": "qiFPDjFASoOS"
      },
      "execution_count": null,
      "outputs": []
    },
    {
      "cell_type": "markdown",
      "source": [
        "<div dir=\"rtl\" lang=\"he\">\n",
        "\n",
        "#**<pre>          הפונקציות map, filter, zip - רשות**"
      ],
      "metadata": {
        "id": "ZLKmKH67To62"
      }
    },
    {
      "cell_type": "markdown",
      "source": [
        "<div dir=\"rtl\" lang=\"he\">\n",
        "\n",
        "\n",
        "##**הפונקציה map**\n",
        "\n",
        "\n",
        "\n"
      ],
      "metadata": {
        "id": "-9lT-m5CT681"
      }
    },
    {
      "cell_type": "markdown",
      "source": [
        "<div dir=\"rtl\" lang=\"he\">\n",
        "\n",
        " map מכילה פונקציה מסויימת על כל האיברים של אובייקט הניתן לסריקה, כגון רשימה, וכך משנה כל איבר בהתאם לפונקציה המוכלת.\n",
        "  \n",
        "הפונקציה מחזירה אובייקט מסוג iterator.\n",
        "\n",
        "<div dir=\"ltr\">\n",
        "\n",
        "* iter = map(function, iterable_object)\n"
      ],
      "metadata": {
        "id": "lLi355OOX27u"
      }
    },
    {
      "cell_type": "code",
      "source": [
        "def double (x):\n",
        "  return 2*x\n",
        "\n",
        "lst = [3, -3, 2, 0, 10, -11]\n",
        "\n",
        "iter = map(double, lst)\n",
        "print(iter)\n",
        "print(next(iter))\n",
        "\n",
        "lst1 = list(iter)\n",
        "print(lst1)\n"
      ],
      "metadata": {
        "id": "jVdILMIPT5rb"
      },
      "execution_count": null,
      "outputs": []
    },
    {
      "cell_type": "code",
      "source": [
        "iter = map(lambda x : 2*x, lst)\n",
        "print(list(iter))"
      ],
      "metadata": {
        "id": "pJgffIAgXeD-"
      },
      "execution_count": null,
      "outputs": []
    },
    {
      "cell_type": "markdown",
      "source": [
        "<div dir=\"rtl\" lang=\"he\">\n",
        "\n",
        "##**הפונציה filter**\n",
        "\n"
      ],
      "metadata": {
        "id": "3eO0r8_AXtBZ"
      }
    },
    {
      "cell_type": "markdown",
      "source": [
        "<div dir=\"rtl\" lang=\"he\">\n",
        "\n",
        "filter - מפעילה על כל איבר את הפונקציה שהתקבלה. אם מוחזר אמת האיבר מוכלל בתשובה\n",
        "\n",
        "הפונקציה מחזירה אוביקט מסוג Iterator הכולל רק אותם איברים שעמדו בתנאי שהתקבל.\n",
        "\n",
        "<div dir=\"ltr\">\n",
        "\n",
        "* iter = filter (function, iterable_object)"
      ],
      "metadata": {
        "id": "ehHbfwMgYWAh"
      }
    },
    {
      "cell_type": "code",
      "source": [
        "lst = [3, -3, 2, 0, 10, -11]\n",
        "iter = filter(lambda x : x > 0, lst)\n",
        "print(list(iter))"
      ],
      "metadata": {
        "id": "gPwbfeM2aa7h"
      },
      "execution_count": null,
      "outputs": []
    },
    {
      "cell_type": "markdown",
      "source": [
        "<div dir=\"rtl\" lang=\"he\">\n",
        "\n",
        "##**הפונקציה zip**"
      ],
      "metadata": {
        "id": "pczW7Euva35m"
      }
    },
    {
      "cell_type": "markdown",
      "source": [
        "<div dir=\"rtl\" lang=\"he\">\n",
        "\n",
        "zip - נועד לאחד מספר אובייקטים הניתנים לסריקה לאובייקט אחד של טאפלים. כל טאפל כולל איבר מאובייקט אחר.\n",
        "\n",
        "הפונקצינ מחזירה אובייקט מסוג iterator.\n",
        "\n",
        "<div dir=\"ltr\">\n",
        "\n",
        "* iter = zip (iterable1, iterable2,...)"
      ],
      "metadata": {
        "id": "WN4mj6vDa845"
      }
    },
    {
      "cell_type": "code",
      "source": [
        "x_values = [1, 2, 3]\n",
        "y_values = [4, 5, 6]\n",
        "iter = zip(x_values, y_values)\n",
        "print(list(iter))"
      ],
      "metadata": {
        "id": "h8I92_tma9c5"
      },
      "execution_count": null,
      "outputs": []
    },
    {
      "cell_type": "markdown",
      "source": [
        "<div dir=\"rtl\" lang=\"he\">\n",
        "\n",
        "#**<pre>         list comperhension - רשות**"
      ],
      "metadata": {
        "id": "akXSnA_vT0uS"
      }
    },
    {
      "cell_type": "markdown",
      "source": [
        "<div dir=\"rtl\" lang=\"he\">\n",
        "\n",
        "list comperhension היא דרך מקוצרת ליצירת רשימה.\n",
        "\n",
        "<div dir=\"rtl\">\n",
        "\n",
        "new_list = [expression(item) for item in iterable if condition(item)]"
      ],
      "metadata": {
        "id": "h0n7W5cIiBXZ"
      }
    },
    {
      "cell_type": "code",
      "source": [
        "lst1 = [x * 2 for x in range(10)]\n",
        "print(lst1)"
      ],
      "metadata": {
        "id": "QeRsiB4mT6P6"
      },
      "execution_count": null,
      "outputs": []
    },
    {
      "cell_type": "code",
      "source": [
        "lst2 = [x for x in range(20) if x % 2 == 0]\n",
        "print(lst2)"
      ],
      "metadata": {
        "id": "AymGcIp7lsS9"
      },
      "execution_count": null,
      "outputs": []
    },
    {
      "cell_type": "code",
      "source": [
        "text = \"Hello World\"\n",
        "uppercase_letters = [char for char in text if char.isupper()]\n",
        "print(uppercase_letters)  # Output: ['H', 'W']\n"
      ],
      "metadata": {
        "id": "S-lf95HDl7Q-"
      },
      "execution_count": null,
      "outputs": []
    },
    {
      "cell_type": "markdown",
      "source": [
        "<div dir=\"rtl\">\n",
        "\n",
        "##**<pre> תרגיל**\n",
        "\n",
        "כתבו פונקציה is_prime המקבלת מספר ומחזירה אמת אם המספר ראשוני.\n",
        "ניתן לכתוב פונקציה רגילה.\n",
        "\n",
        "השתמשו בפונקציה שכתבתם וצרו רשימה של כל המספרים הראשונים מ עד 100 באמצעות list comperhension"
      ],
      "metadata": {
        "id": "FhP_nc5hmf3V"
      }
    },
    {
      "cell_type": "code",
      "source": [],
      "metadata": {
        "id": "uQyE0r4ITyBH"
      },
      "execution_count": null,
      "outputs": []
    },
    {
      "cell_type": "code",
      "source": [
        "\n",
        "print(lst)"
      ],
      "metadata": {
        "id": "LiuRrn56m_ks"
      },
      "execution_count": null,
      "outputs": []
    }
  ]
}