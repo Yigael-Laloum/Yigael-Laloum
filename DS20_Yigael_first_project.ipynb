{
  "nbformat": 4,
  "nbformat_minor": 0,
  "metadata": {
    "colab": {
      "provenance": [],
      "authorship_tag": "ABX9TyP0jdYolWxfMGEE6oOdlfGR",
      "include_colab_link": true
    },
    "kernelspec": {
      "name": "python3",
      "display_name": "Python 3"
    },
    "language_info": {
      "name": "python"
    }
  },
  "cells": [
    {
      "cell_type": "markdown",
      "metadata": {
        "id": "view-in-github",
        "colab_type": "text"
      },
      "source": [
        "<a href=\"https://colab.research.google.com/github/Yigael-Laloum/Yigael-Laloum/blob/main/DS20_Yigael_first_project.ipynb\" target=\"_parent\"><img src=\"https://colab.research.google.com/assets/colab-badge.svg\" alt=\"Open In Colab\"/></a>"
      ]
    },
    {
      "cell_type": "code",
      "execution_count": null,
      "metadata": {
        "id": "CcfcVTZFY4Ms"
      },
      "outputs": [],
      "source": [
        "import requests\n",
        "import json\n",
        "\n",
        "# הכנס את ה-API Key שלך כאן\n",
        "api_key = \"053b9baa6643509be5a052798faf7f3b\"\n",
        "\n",
        "# כתובת בסיסית של ה-API\n",
        "base_url = \"https://api.openweathermap.org/data/2.5/weather?\"\n",
        "\n",
        "# מקבל שם עיר מהמשתמש\n",
        "city_name = input(\"הכנס שם עיר (באנגלית): \")\n",
        "\n",
        "# בנה את כתובת ה-URL המלאה\n",
        "complete_url = f\"{base_url}q={city_name}&appid={api_key}&units=metric\"\n",
        "\n",
        "# שלח בקשת HTTP\n",
        "response = requests.get(complete_url)\n",
        "\n",
        "# המר את התגובה לפורמט Python (JSON)\n",
        "data = response.json()\n",
        "\n",
        "# בדוק אם העיר נמצאה\n",
        "if data[\"cod\"] != \"404\":\n",
        "    # חלץ נתונים מהתגובה\n",
        "    main = data[\"main\"]\n",
        "    temperature = main[\"temp\"]  # טמפרטורה במעלות צלזיוס\n",
        "    humidity = main[\"humidity\"]  # לחות באחוזים\n",
        "    pressure = main[\"pressure\"]  # לחץ אטמוספרי ב-hPa\n",
        "    weather_description = data[\"weather\"][0][\"description\"]  # תיאור מזג האוויר\n",
        "\n",
        "    # הדפס את התוצאות\n",
        "    print(f\"עיר: {city_name}\")\n",
        "    print(f\"טמפרטורה: {temperature}°C\")\n",
        "    print(f\"לחות: {humidity}%\")\n",
        "    print(f\"לחץ: {pressure} hPa\")\n",
        "    print(f\"תיאור: {weather_description}\")\n",
        "else:\n",
        "    print(\"העיר לא נמצאה!\")\n"
      ]
    },
    {
      "cell_type": "code",
      "source": [],
      "metadata": {
        "id": "xUq7fZFyY6Vx"
      },
      "execution_count": null,
      "outputs": []
    }
  ]
}